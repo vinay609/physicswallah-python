{
  "nbformat": 4,
  "nbformat_minor": 0,
  "metadata": {
    "colab": {
      "provenance": []
    },
    "kernelspec": {
      "name": "python3",
      "display_name": "Python 3"
    },
    "language_info": {
      "name": "python"
    }
  },
  "cells": [
    {
      "cell_type": "code",
      "execution_count": 7,
      "metadata": {
        "id": "O0cu1d3jMmpG"
      },
      "outputs": [],
      "source": [
        "\n",
        "#String Slicing in Python\n",
        "#String slicing allows you to extract a portion of a string by specifying a start and end index. The syntax is:\n",
        "#string[start:end:step]\n",
        "#start: The index to begin slicing (inclusive).\n",
        "#end: The index to end slicing (exclusive).\n",
        "#step: How many steps to take when slicing (default is 1)"
      ]
    },
    {
      "cell_type": "code",
      "source": [
        "text = \"Hello, World!\"\n",
        "print(text[0:5])\n",
        "print(text[7:12])\n",
        "\n",
        "print(text[::2])\n"
      ],
      "metadata": {
        "colab": {
          "base_uri": "https://localhost:8080/"
        },
        "id": "aHv41vhuMzil",
        "outputId": "c5d6a009-4ffa-4d8f-d3f8-5159ad1a8761"
      },
      "execution_count": 6,
      "outputs": [
        {
          "output_type": "stream",
          "name": "stdout",
          "text": [
            "Hello\n",
            "World\n",
            "Hlo ol!\n"
          ]
        }
      ]
    },
    {
      "cell_type": "code",
      "source": [
        "# 2.Explain the key features of lists in Python\n",
        "#Ordered: Lists maintain the order of elements.\n",
        "#Mutable: You can modify the elements after the list is created.\n",
        "#Heterogeneous: Lists can contain elements of different types (e.g., integers, strings).\n",
        "#Dynamic: Lists can grow or shrink in size."
      ],
      "metadata": {
        "id": "agBt7u2iPJRE"
      },
      "execution_count": 9,
      "outputs": []
    },
    {
      "cell_type": "code",
      "source": [
        "my_list = [1, \"apple\", 3.5, True]\n",
        "print(my_list)"
      ],
      "metadata": {
        "colab": {
          "base_uri": "https://localhost:8080/"
        },
        "id": "Cv1NYrHPPyCi",
        "outputId": "dfc89883-99f0-4038-b29d-c85afe13d5f5"
      },
      "execution_count": 10,
      "outputs": [
        {
          "output_type": "stream",
          "name": "stdout",
          "text": [
            "[1, 'apple', 3.5, True]\n"
          ]
        }
      ]
    },
    {
      "cell_type": "code",
      "source": [
        "#3. Describe how to access, modify, and delete elements in a list with examples\n",
        "#Accessing Elements: You can use indexing."
      ],
      "metadata": {
        "id": "89wvKM16P47R"
      },
      "execution_count": 11,
      "outputs": []
    },
    {
      "cell_type": "code",
      "source": [
        "fruits = [\"apple\", \"banana\", \"cherry\"]\n",
        "print(fruits)\n"
      ],
      "metadata": {
        "colab": {
          "base_uri": "https://localhost:8080/"
        },
        "id": "LBjvvh1mQQmY",
        "outputId": "00731e19-1623-48f9-abca-7e7f9c040c6d"
      },
      "execution_count": 14,
      "outputs": [
        {
          "output_type": "stream",
          "name": "stdout",
          "text": [
            "['apple', 'banana', 'cherry']\n"
          ]
        }
      ]
    },
    {
      "cell_type": "code",
      "source": [
        "#Modifying Elements: Use the index to change an item."
      ],
      "metadata": {
        "id": "o1tNdFfiQ3I4"
      },
      "execution_count": null,
      "outputs": []
    },
    {
      "cell_type": "code",
      "source": [
        "fruits[1] = \"blueberry\"\n",
        "print(fruits)\n"
      ],
      "metadata": {
        "colab": {
          "base_uri": "https://localhost:8080/"
        },
        "id": "rfLXPNjtQxYo",
        "outputId": "ec93e0b6-59e0-49df-9c18-4ac48fafe14e"
      },
      "execution_count": 15,
      "outputs": [
        {
          "output_type": "stream",
          "name": "stdout",
          "text": [
            "['apple', 'blueberry', 'cherry']\n"
          ]
        }
      ]
    },
    {
      "cell_type": "code",
      "source": [
        "#Deleting Elements:\n",
        "\n",
        "del fruits[1]\n",
        "print(fruits)\n"
      ],
      "metadata": {
        "colab": {
          "base_uri": "https://localhost:8080/"
        },
        "id": "7KABZFFUQ-ey",
        "outputId": "c6704f36-046a-4fca-ec76-b0a3a948c13c"
      },
      "execution_count": 16,
      "outputs": [
        {
          "output_type": "stream",
          "name": "stdout",
          "text": [
            "['apple', 'cherry']\n"
          ]
        }
      ]
    },
    {
      "cell_type": "code",
      "source": [
        "#Using .remove():\n",
        "fruits.remove(\"apple\")\n",
        "print(fruits)"
      ],
      "metadata": {
        "colab": {
          "base_uri": "https://localhost:8080/"
        },
        "id": "__sj1nHFRJx4",
        "outputId": "534f0f72-e22f-44f2-8790-42544817bd49"
      },
      "execution_count": 17,
      "outputs": [
        {
          "output_type": "stream",
          "name": "stdout",
          "text": [
            "['cherry']\n"
          ]
        }
      ]
    },
    {
      "cell_type": "code",
      "source": [
        "#Using .pop(): Removes and returns an element.\n",
        "fruit = fruits.pop(0)\n",
        "print(fruit)\n",
        "print(fruits)"
      ],
      "metadata": {
        "colab": {
          "base_uri": "https://localhost:8080/"
        },
        "id": "l9mRVICfRZUc",
        "outputId": "a03cdca5-ac9c-47de-c2a5-c7f2358109d3"
      },
      "execution_count": 18,
      "outputs": [
        {
          "output_type": "stream",
          "name": "stdout",
          "text": [
            "cherry\n",
            "[]\n"
          ]
        }
      ]
    },
    {
      "cell_type": "code",
      "source": [
        "#4.Compare and contrast tuples and lists with examples\n",
        "#Comparison of Tuples and Lists\n",
        "#Lists: Mutable, can be modified.\n",
        "#Tuples: Immutable, cannot be modified.\n",
        "#Tuples are used for fixed data, lists for dynamic data.\n"
      ],
      "metadata": {
        "id": "gbErWPihRlfp"
      },
      "execution_count": 22,
      "outputs": []
    },
    {
      "cell_type": "code",
      "source": [
        "#list\n",
        "my_list = [1, 2, 3]\n",
        "my_list[0] = 4\n",
        "print(my_list)\n",
        "\n"
      ],
      "metadata": {
        "colab": {
          "base_uri": "https://localhost:8080/"
        },
        "id": "O3ZDnCrwRxo9",
        "outputId": "057f1b46-8f26-4414-edb2-6d864bc8e421"
      },
      "execution_count": 21,
      "outputs": [
        {
          "output_type": "stream",
          "name": "stdout",
          "text": [
            "[4, 2, 3]\n"
          ]
        }
      ]
    },
    {
      "cell_type": "code",
      "source": [
        "#tuple\n",
        "my_tuple = (1, 2, 3)\n",
        "print(my_tuple)"
      ],
      "metadata": {
        "colab": {
          "base_uri": "https://localhost:8080/"
        },
        "id": "819iB2kkSKFP",
        "outputId": "cf222ba0-0ae3-4814-cabb-c98346248798"
      },
      "execution_count": 24,
      "outputs": [
        {
          "output_type": "stream",
          "name": "stdout",
          "text": [
            "(1, 2, 3)\n"
          ]
        }
      ]
    },
    {
      "cell_type": "code",
      "source": [
        "#5.Describe the key features of sets and provide examples of their use"
      ],
      "metadata": {
        "id": "o6WI_vlqSoSj"
      },
      "execution_count": null,
      "outputs": []
    },
    {
      "cell_type": "code",
      "source": [
        "#Features of Sets in Python\n",
        "#Unordered\n",
        "#Unique Elements\n",
        "#Mutable"
      ],
      "metadata": {
        "id": "CLfiMdQtS3oG"
      },
      "execution_count": null,
      "outputs": []
    },
    {
      "cell_type": "code",
      "source": [
        "my_set = {1, 2, 3, 3}\n",
        "print(my_set)"
      ],
      "metadata": {
        "colab": {
          "base_uri": "https://localhost:8080/"
        },
        "id": "QnNo4B8gTZMU",
        "outputId": "7ab51451-2d49-43c1-ebf2-702e821c03ad"
      },
      "execution_count": 25,
      "outputs": [
        {
          "output_type": "stream",
          "name": "stdout",
          "text": [
            "{1, 2, 3}\n"
          ]
        }
      ]
    },
    {
      "cell_type": "code",
      "source": [
        "#Common Operations:\n",
        "#Adding: my_set.add(4)\n",
        "#Removing: my_set.remove(2)\n",
        "#Union & Intersection"
      ],
      "metadata": {
        "id": "7Lrv2QnATCRu"
      },
      "execution_count": null,
      "outputs": []
    },
    {
      "cell_type": "code",
      "source": [
        "set1 = {1, 2, 3}\n",
        "set2 = {3, 4, 5}\n",
        "print(set1 | set2)\n",
        "print(set1 & set2)"
      ],
      "metadata": {
        "colab": {
          "base_uri": "https://localhost:8080/"
        },
        "id": "Yt6VVZc9T2G-",
        "outputId": "6649b4f4-0c94-4025-ccc9-c70de8c96732"
      },
      "execution_count": 26,
      "outputs": [
        {
          "output_type": "stream",
          "name": "stdout",
          "text": [
            "{1, 2, 3, 4, 5}\n",
            "{3}\n"
          ]
        }
      ]
    },
    {
      "cell_type": "code",
      "source": [
        "my_set.add(4)"
      ],
      "metadata": {
        "id": "I6nGZwb0UEce"
      },
      "execution_count": 27,
      "outputs": []
    },
    {
      "cell_type": "code",
      "source": [
        "my_set.remove(2)"
      ],
      "metadata": {
        "id": "Iyc4hT2fUIkp"
      },
      "execution_count": 28,
      "outputs": []
    },
    {
      "cell_type": "code",
      "source": [
        "#6.Use Cases for Tuples and Sets in Python\n",
        "#Tuples: Use when data should not change, like coordinates or fixed configurations.\n",
        "#Sets: Use when you need to manage unique items or perform set operations like unions and intersections."
      ],
      "metadata": {
        "id": "rgf_J0GCUKxb"
      },
      "execution_count": 29,
      "outputs": []
    },
    {
      "cell_type": "code",
      "source": [
        "#tupples\n",
        "coordinates = (10, 20)\n"
      ],
      "metadata": {
        "id": "BUd2KmPnUP4L"
      },
      "execution_count": 30,
      "outputs": []
    },
    {
      "cell_type": "code",
      "source": [
        "#sets\n",
        "unique_names = {\"Alice\", \"Bob\", \"Charlie\"}\n"
      ],
      "metadata": {
        "id": "FUsAPwkwUgTq"
      },
      "execution_count": 31,
      "outputs": []
    },
    {
      "cell_type": "code",
      "source": [
        "#7.Describe how to add, modify, and delete items in a dictionary with examples"
      ],
      "metadata": {
        "id": "LNgCCN-kUxpl"
      },
      "execution_count": null,
      "outputs": []
    },
    {
      "cell_type": "code",
      "source": [
        "#adding\n",
        "my_dict = {\"name\": \"Alice\", \"age\": 25}\n",
        "my_dict[\"city\"] = \"New York\"\n",
        "print(my_dict)\n"
      ],
      "metadata": {
        "colab": {
          "base_uri": "https://localhost:8080/"
        },
        "id": "q2is54OXVXrt",
        "outputId": "ead3c453-43f1-4e0b-d8f1-00064e5c902b"
      },
      "execution_count": 33,
      "outputs": [
        {
          "output_type": "stream",
          "name": "stdout",
          "text": [
            "{'name': 'Alice', 'age': 25, 'city': 'New York'}\n"
          ]
        }
      ]
    },
    {
      "cell_type": "code",
      "source": [
        "#modifying\n",
        "my_dict[\"age\"] = 30\n",
        "print(my_dict)\n"
      ],
      "metadata": {
        "colab": {
          "base_uri": "https://localhost:8080/"
        },
        "id": "3_eUQTH-VZ6w",
        "outputId": "ba7b08bd-a967-46fa-a8c7-2bc6bd5c39f3"
      },
      "execution_count": 34,
      "outputs": [
        {
          "output_type": "stream",
          "name": "stdout",
          "text": [
            "{'name': 'Alice', 'age': 30, 'city': 'New York'}\n"
          ]
        }
      ]
    },
    {
      "cell_type": "code",
      "source": [
        "#Deleting Items:\n",
        "del my_dict[\"age\"]\n",
        "print(my_dict)\n"
      ],
      "metadata": {
        "id": "HLJEiZirVxa1"
      },
      "execution_count": 35,
      "outputs": []
    },
    {
      "cell_type": "code",
      "source": [
        "#Using .pop()\n",
        "city = my_dict.pop(\"city\")\n",
        "print(city)  # Output: New York\n",
        "print(my_dict)  # Output: {'name': 'Alice'}\n"
      ],
      "metadata": {
        "colab": {
          "base_uri": "https://localhost:8080/"
        },
        "id": "RQl5OEZ8V05n",
        "outputId": "d2dffca1-d577-481b-ad34-7865a6085eb3"
      },
      "execution_count": 37,
      "outputs": [
        {
          "output_type": "stream",
          "name": "stdout",
          "text": [
            "New York\n",
            "{'name': 'Alice', 'age': 30}\n"
          ]
        }
      ]
    },
    {
      "cell_type": "code",
      "source": [
        "# 8.Discuss the importance of dictionary keys being immutable and provide example"
      ],
      "metadata": {
        "id": "QtOe1UhBWILb"
      },
      "execution_count": null,
      "outputs": []
    },
    {
      "cell_type": "code",
      "source": [
        "#Dictionary keys must be immutable to ensure that the key does not change,\n",
        "# maintaining a consistent hash value for fast lookups. Examples of immutable types include strings, numbers, and tuples."
      ],
      "metadata": {
        "id": "C2oEfhoWWvBK"
      },
      "execution_count": 39,
      "outputs": []
    },
    {
      "cell_type": "code",
      "source": [
        "#example\n",
        "my_dict = {123: \"number\", \"name\": \"Alice\", (1, 2): \"tuple key\"}"
      ],
      "metadata": {
        "id": "ePf9hUJ2W1Sw"
      },
      "execution_count": 41,
      "outputs": []
    },
    {
      "cell_type": "code",
      "source": [],
      "metadata": {
        "id": "P37ceB8TW9YZ"
      },
      "execution_count": null,
      "outputs": []
    }
  ]
}