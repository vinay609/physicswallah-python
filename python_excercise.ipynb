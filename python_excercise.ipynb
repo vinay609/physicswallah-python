{
  "cells": [
    {
      "cell_type": "markdown",
      "metadata": {
        "id": "view-in-github",
        "colab_type": "text"
      },
      "source": [
        "<a href=\"https://colab.research.google.com/github/vinay609/physicswallah-python/blob/main/python_excercise.ipynb\" target=\"_parent\"><img src=\"https://colab.research.google.com/assets/colab-badge.svg\" alt=\"Open In Colab\"/></a>"
      ]
    },
    {
      "cell_type": "markdown",
      "source": [
        "## **Python Code Cheatsheet for beginner**\n",
        "\n"
      ],
      "metadata": {
        "id": "fqfugY4Mj76w"
      }
    },
    {
      "cell_type": "code",
      "source": [
        "#converting integer to decimals\n",
        "import decimal\n",
        "integer=10\n",
        "print(decimal.Decimal(integer))\n"
      ],
      "metadata": {
        "id": "s-ywOoxpj4kg",
        "outputId": "3d0a9d78-4199-494f-f491-e75c445d2007",
        "colab": {
          "base_uri": "https://localhost:8080/"
        }
      },
      "execution_count": null,
      "outputs": [
        {
          "output_type": "stream",
          "name": "stdout",
          "text": [
            "10\n"
          ]
        }
      ]
    },
    {
      "cell_type": "code",
      "source": [
        "print(type(decimal.Decimal(integer)))"
      ],
      "metadata": {
        "id": "UxmAtX2Wl1W8",
        "outputId": "fbe92497-6703-484d-ddb9-c293fdb9ff78",
        "colab": {
          "base_uri": "https://localhost:8080/"
        }
      },
      "execution_count": null,
      "outputs": [
        {
          "output_type": "stream",
          "name": "stdout",
          "text": [
            "<class 'decimal.Decimal'>\n"
          ]
        }
      ]
    },
    {
      "cell_type": "code",
      "source": [
        "# converting string to decimals\n",
        "import decimal\n",
        "string='434343'\n",
        "print(type(string))\n",
        "print(decimal.Decimal(string))"
      ],
      "metadata": {
        "id": "_YtI8mjsmII7",
        "outputId": "4f83e6e1-dac7-4c2c-c316-4b90142faf16",
        "colab": {
          "base_uri": "https://localhost:8080/"
        }
      },
      "execution_count": null,
      "outputs": [
        {
          "output_type": "stream",
          "name": "stdout",
          "text": [
            "<class 'str'>\n",
            "434343\n"
          ]
        }
      ]
    },
    {
      "cell_type": "code",
      "source": [
        "print(type(decimal.Decimal(string)))"
      ],
      "metadata": {
        "id": "NCbY9BQtmY92",
        "outputId": "5cda4e82-d033-412e-aef8-b266c4b03ae5",
        "colab": {
          "base_uri": "https://localhost:8080/"
        }
      },
      "execution_count": null,
      "outputs": [
        {
          "output_type": "stream",
          "name": "stdout",
          "text": [
            "<class 'decimal.Decimal'>\n"
          ]
        }
      ]
    },
    {
      "cell_type": "code",
      "source": [
        "#implicit type casting = python understands the data type automatically\n",
        "2+2\n"
      ],
      "metadata": {
        "id": "KDBJMfcvoSkJ",
        "outputId": "2dad7105-e68e-4a99-e236-b75fb9812765",
        "colab": {
          "base_uri": "https://localhost:8080/"
        }
      },
      "execution_count": null,
      "outputs": [
        {
          "output_type": "execute_result",
          "data": {
            "text/plain": [
              "4"
            ]
          },
          "metadata": {},
          "execution_count": 11
        }
      ]
    },
    {
      "cell_type": "code",
      "source": [
        "type(2+5)"
      ],
      "metadata": {
        "id": "kvrCVFx-rPUZ",
        "outputId": "121e180f-b3a6-4b34-8f27-22d63b1c86c3",
        "colab": {
          "base_uri": "https://localhost:8080/"
        }
      },
      "execution_count": null,
      "outputs": [
        {
          "output_type": "execute_result",
          "data": {
            "text/plain": [
              "int"
            ]
          },
          "metadata": {},
          "execution_count": 12
        }
      ]
    },
    {
      "cell_type": "code",
      "source": [
        "type(5+2.6)"
      ],
      "metadata": {
        "id": "nryr33qSrW2v",
        "outputId": "d4cafec8-3932-4564-e9b3-b1ba32a95257",
        "colab": {
          "base_uri": "https://localhost:8080/"
        }
      },
      "execution_count": null,
      "outputs": [
        {
          "output_type": "execute_result",
          "data": {
            "text/plain": [
              "float"
            ]
          },
          "metadata": {},
          "execution_count": 13
        }
      ]
    },
    {
      "cell_type": "code",
      "source": [
        "#explicit type casting =  involves Python's predefined functions that act as a constructor of another data type\n",
        "a=6\n",
        "b=4.5\n",
        "print(type(a))\n",
        "print(type(b))\n",
        "print(a+b)\n",
        "print(type(a+b))"
      ],
      "metadata": {
        "id": "nlQRClP8rkQ5",
        "outputId": "277bceff-8a82-4bb7-a3a3-e05c21a0d1b7",
        "colab": {
          "base_uri": "https://localhost:8080/"
        }
      },
      "execution_count": null,
      "outputs": [
        {
          "output_type": "stream",
          "name": "stdout",
          "text": [
            "<class 'int'>\n",
            "<class 'float'>\n",
            "10.5\n",
            "<class 'float'>\n"
          ]
        }
      ]
    },
    {
      "cell_type": "code",
      "source": [
        "a=2\n",
        "print(type(a))\n",
        "b = str(a)\n",
        "print(type(b))"
      ],
      "metadata": {
        "id": "IUiM2fzusBwz",
        "outputId": "f70ab113-ddd9-4341-98a3-b1172950d4d8",
        "colab": {
          "base_uri": "https://localhost:8080/"
        }
      },
      "execution_count": null,
      "outputs": [
        {
          "output_type": "stream",
          "name": "stdout",
          "text": [
            "<class 'int'>\n",
            "<class 'str'>\n"
          ]
        }
      ]
    },
    {
      "cell_type": "code",
      "source": [
        "a ='ajay'\n",
        "b=5\n",
        "print(a+str(b))"
      ],
      "metadata": {
        "id": "PRB2B98Wthav",
        "outputId": "e6558cf3-cdc9-497e-bc6f-24c50ccda1b9",
        "colab": {
          "base_uri": "https://localhost:8080/"
        }
      },
      "execution_count": null,
      "outputs": [
        {
          "output_type": "stream",
          "name": "stdout",
          "text": [
            "ajay5\n"
          ]
        }
      ]
    },
    {
      "cell_type": "code",
      "source": [
        "bool(a)"
      ],
      "metadata": {
        "id": "PuWYLGCXumXL",
        "outputId": "6cc848cb-bea3-45e8-9c85-ec1999f03c19",
        "colab": {
          "base_uri": "https://localhost:8080/"
        }
      },
      "execution_count": null,
      "outputs": [
        {
          "output_type": "execute_result",
          "data": {
            "text/plain": [
              "True"
            ]
          },
          "metadata": {},
          "execution_count": 29
        }
      ]
    },
    {
      "cell_type": "code",
      "source": [
        "bool(\"vinay\")"
      ],
      "metadata": {
        "id": "LoxbzzlIuZ0u",
        "outputId": "5c62878e-f58a-4500-fa56-2ea36228f68e",
        "colab": {
          "base_uri": "https://localhost:8080/"
        }
      },
      "execution_count": null,
      "outputs": [
        {
          "output_type": "execute_result",
          "data": {
            "text/plain": [
              "True"
            ]
          },
          "metadata": {},
          "execution_count": 28
        }
      ]
    },
    {
      "cell_type": "markdown",
      "source": [
        "**Conditional Statement problems**"
      ],
      "metadata": {
        "id": "WDdP0tslyxf9"
      }
    },
    {
      "cell_type": "code",
      "source": [
        "#Given a positive integer x. Your task is to check, if it is even or odd (Any number that gives zero as remainder when divided by 2 is an even number)\n",
        "def checkOddEven():\n",
        "    x = int(input(\"Enter a value: \"))\n",
        "\n",
        "    if 1 <= x <= 106:\n",
        "        if x % 2 == 0:\n",
        "            print(\"Even\")\n",
        "        else:\n",
        "            print(\"Odd\")\n",
        "    else:\n",
        "        print(\"Please enter a number between 1 and 106.\")\n",
        "\n",
        "checkOddEven()"
      ],
      "metadata": {
        "id": "tXRZGGCRut4o",
        "outputId": "ef9d06ce-c5d9-4f2a-d984-174a12ee13e8",
        "colab": {
          "base_uri": "https://localhost:8080/"
        }
      },
      "execution_count": null,
      "outputs": [
        {
          "output_type": "stream",
          "name": "stdout",
          "text": [
            "Enter a value: 5\n",
            "Odd\n"
          ]
        }
      ]
    },
    {
      "cell_type": "code",
      "source": [
        "\n",
        "\"\"\"Given two integer variables a and b, and a boolean variable flag. The task is to check the status and return accordingly.\n",
        "\n",
        "Return True for the following cases:\n",
        "\n",
        "Either a or b (not both) is non-negative and the flag is false.\n",
        "Both a and b are negative and the flag is true.\n",
        "Otherwise, return False\n",
        "\"\"\"\n",
        "\n",
        "class Solution:\n",
        "    def checkStatus(self, a, b, flag):\n",
        "        # code here\n",
        "        if not flag:\n",
        "            if (a>=0 and b<0) or (b>=0 and a<0):\n",
        "                return True\n",
        "            else:\n",
        "                return False\n",
        "        elif a<0 and b<0 and flag:\n",
        "            return True\n",
        "        else:\n",
        "            return False\n",
        "sol = Solution()\n",
        "\n",
        "print(sol.checkStatus(5, -6, False))"
      ],
      "metadata": {
        "id": "0EV1mKreQtql",
        "outputId": "776c27af-3323-4954-94da-b6dd77b094ba",
        "colab": {
          "base_uri": "https://localhost:8080/"
        }
      },
      "execution_count": null,
      "outputs": [
        {
          "output_type": "stream",
          "name": "stdout",
          "text": [
            "True\n"
          ]
        }
      ]
    },
    {
      "cell_type": "code",
      "source": [
        "class Solution:\n",
        "    def checkStatus(self, a, b, flag):\n",
        "\n",
        "        if (a>0 & b<0 and flag == False):\n",
        "            return True\n",
        "        elif (a<0 & b<0 and flag==True):\n",
        "            return False\n",
        "        elif (a>0 & b>0 and flag==True):\n",
        "            return False\n",
        "\n",
        "sol = Solution()\n",
        "\n",
        "print(sol.checkStatus(-7, -3, True))"
      ],
      "metadata": {
        "id": "5JsyVXwf6LC4",
        "outputId": "5380610b-d566-4a09-be83-68f2b04eedbe",
        "colab": {
          "base_uri": "https://localhost:8080/"
        }
      },
      "execution_count": null,
      "outputs": [
        {
          "output_type": "stream",
          "name": "stdout",
          "text": [
            "None\n"
          ]
        }
      ]
    },
    {
      "cell_type": "code",
      "source": [],
      "metadata": {
        "id": "HX24CG-oUjdT"
      },
      "execution_count": null,
      "outputs": []
    },
    {
      "cell_type": "markdown",
      "source": [
        "# **using Return keyword in multiple cases**"
      ],
      "metadata": {
        "id": "rC7tbR-dUXvN"
      }
    },
    {
      "cell_type": "code",
      "source": [
        "#1. Returning a Single Value\n",
        "#You can return a single value of any data type.\n",
        "\n",
        "def get_number():\n",
        "    return 5\n",
        "\n",
        "print(get_number())"
      ],
      "metadata": {
        "id": "I6Ye8-vqOc3R",
        "outputId": "e5cec5dd-831a-4016-ff70-90c96ce17e48",
        "colab": {
          "base_uri": "https://localhost:8080/"
        }
      },
      "execution_count": null,
      "outputs": [
        {
          "output_type": "stream",
          "name": "stdout",
          "text": [
            "5\n"
          ]
        }
      ]
    },
    {
      "cell_type": "code",
      "source": [
        "#2. Returning Multiple Values (Tuple Packing)\n",
        "#Python allows returning multiple values as a tuple.\n",
        "\n",
        "def get_coordinates():\n",
        "    return 10, 20  # Returns a tuple\n",
        "\n",
        "x, y = get_coordinates()\n",
        "print(x, y)"
      ],
      "metadata": {
        "id": "LEbW-A46UyyT",
        "outputId": "84cdf127-791f-4492-9f23-3f634a34bf25",
        "colab": {
          "base_uri": "https://localhost:8080/"
        }
      },
      "execution_count": null,
      "outputs": [
        {
          "output_type": "stream",
          "name": "stdout",
          "text": [
            "10 20\n"
          ]
        }
      ]
    },
    {
      "cell_type": "markdown",
      "source": [
        "In Python, when you call a function that returns multiple values (like get_coordinates()), it actually returns a tuple. You can handle this tuple in two ways:"
      ],
      "metadata": {
        "id": "IDqRFULpVGpP"
      }
    },
    {
      "cell_type": "code",
      "source": [
        "#1️⃣ Assigning Multiple Values to Separate Variables (Tuple Unpacking)\n",
        "\n",
        "def get_coordinates():\n",
        "    return 10, 20  # This actually returns (10, 20) as a tuple\n",
        "\n",
        "x, y = get_coordinates()  # Unpacking the tuple into x and y\n",
        "print(x, y)"
      ],
      "metadata": {
        "id": "ob4q8zhLVJNo",
        "outputId": "09c8b137-88b9-4611-9828-647bb35eb2b4",
        "colab": {
          "base_uri": "https://localhost:8080/"
        }
      },
      "execution_count": null,
      "outputs": [
        {
          "output_type": "stream",
          "name": "stdout",
          "text": [
            "10 20\n"
          ]
        }
      ]
    },
    {
      "cell_type": "code",
      "source": [
        "#2️⃣ Calling the Function Directly Without Unpacking\n",
        "print(get_coordinates())"
      ],
      "metadata": {
        "id": "BDGsUKsaVToa",
        "outputId": "28d63861-e22c-4657-ee0e-76b86cf873e5",
        "colab": {
          "base_uri": "https://localhost:8080/"
        }
      },
      "execution_count": null,
      "outputs": [
        {
          "output_type": "stream",
          "name": "stdout",
          "text": [
            "(10, 20)\n"
          ]
        }
      ]
    },
    {
      "cell_type": "code",
      "source": [
        "#3. Returning a List\n",
        "def get_list():\n",
        "    return [1, 2, 3, 4]\n",
        "\n",
        "print(get_list())"
      ],
      "metadata": {
        "id": "ZVZ0rqLGVX0s",
        "outputId": "e8a31e82-ca06-4e44-a6ff-065c001ac3f4",
        "colab": {
          "base_uri": "https://localhost:8080/"
        }
      },
      "execution_count": null,
      "outputs": [
        {
          "output_type": "stream",
          "name": "stdout",
          "text": [
            "[1, 2, 3, 4]\n"
          ]
        }
      ]
    },
    {
      "cell_type": "code",
      "source": [
        "#4. Returning a Dictionary\n",
        "\n",
        "def get_dict():\n",
        "    return {\"name\": \"Alice\", \"age\": 25}\n",
        "\n",
        "print(get_dict())"
      ],
      "metadata": {
        "id": "BGv41FrdVt8_",
        "outputId": "fe5c1ad3-8361-4862-ea26-04e5e5d71467",
        "colab": {
          "base_uri": "https://localhost:8080/"
        }
      },
      "execution_count": null,
      "outputs": [
        {
          "output_type": "stream",
          "name": "stdout",
          "text": [
            "{'name': 'Alice', 'age': 25}\n"
          ]
        }
      ]
    },
    {
      "cell_type": "code",
      "source": [
        "#5. Returning a Boolean Value\n",
        "\n",
        "def is_even(n):\n",
        "    return n % 2 == 0\n",
        "\n",
        "print(is_even(4))\n",
        "is_even(5)"
      ],
      "metadata": {
        "id": "buoyRUsvVxPE",
        "outputId": "3215620c-9c56-48a6-fc71-aadbe63d5336",
        "colab": {
          "base_uri": "https://localhost:8080/"
        }
      },
      "execution_count": null,
      "outputs": [
        {
          "output_type": "stream",
          "name": "stdout",
          "text": [
            "True\n"
          ]
        },
        {
          "output_type": "execute_result",
          "data": {
            "text/plain": [
              "False"
            ]
          },
          "metadata": {},
          "execution_count": 65
        }
      ]
    },
    {
      "cell_type": "code",
      "source": [
        "#6. Returning None (No Value)\n",
        "#If you don’t specify a return value, Python automatically returns None.\n",
        "\n",
        "def do_nothing():\n",
        "    return\n",
        "print(do_nothing())"
      ],
      "metadata": {
        "id": "Jb0tA8zqWFvH",
        "outputId": "147ffde1-fad0-462a-9220-8966ba1f87df",
        "colab": {
          "base_uri": "https://localhost:8080/"
        }
      },
      "execution_count": null,
      "outputs": [
        {
          "output_type": "stream",
          "name": "stdout",
          "text": [
            "None\n"
          ]
        }
      ]
    },
    {
      "cell_type": "code",
      "source": [
        "#7. Returning an Object or Class Instance\n",
        "class Person:\n",
        "    def __init__(self, name):\n",
        "        self.name = name\n",
        "\n",
        "def get_person():\n",
        "    return Person(\"Alice\")\n",
        "\n",
        "person = get_person()\n",
        "print(person.name)"
      ],
      "metadata": {
        "id": "BUdm-3ESWWUU",
        "outputId": "9cd017ba-0aff-44e3-fe1e-eb77ec3be0cd",
        "colab": {
          "base_uri": "https://localhost:8080/"
        }
      },
      "execution_count": null,
      "outputs": [
        {
          "output_type": "stream",
          "name": "stdout",
          "text": [
            "Alice\n"
          ]
        }
      ]
    },
    {
      "cell_type": "code",
      "source": [
        "class Person:\n",
        "    def __init__(self, name):\n",
        "        self.name = name\n",
        "\n",
        "    def get_name(self):\n",
        "        return self.name\n",
        "\n",
        "\n",
        "p1 = Person(\"Alice\")\n",
        "p2 = Person(\"Bob\")\n",
        "p3 = Person(\"Charlie\")\n",
        "p4 = Person(\"David\")\n",
        "\n",
        "print(p1.get_name())\n",
        "print(p2.get_name())\n",
        "print(p3.get_name())\n",
        "print(p4.get_name())\n"
      ],
      "metadata": {
        "id": "xR5dm-rFX9KV",
        "outputId": "e60f50db-6703-489a-b48b-b618c9c047a5",
        "colab": {
          "base_uri": "https://localhost:8080/"
        }
      },
      "execution_count": null,
      "outputs": [
        {
          "output_type": "stream",
          "name": "stdout",
          "text": [
            "Alice\n",
            "Bob\n",
            "Charlie\n",
            "David\n"
          ]
        }
      ]
    },
    {
      "cell_type": "code",
      "source": [
        "#8. Returning a Function (Higher-Order Functions)\n",
        "\n",
        "def outer_function():\n",
        "    def inner_function():\n",
        "        return \"Hello\"\n",
        "    return inner_function\n",
        "func = outer_function()\n",
        "print(func())"
      ],
      "metadata": {
        "id": "tZ6oEBoiaI2L",
        "outputId": "ff29bd69-6d20-4dcc-e30d-2cdb6933c2bc",
        "colab": {
          "base_uri": "https://localhost:8080/"
        }
      },
      "execution_count": null,
      "outputs": [
        {
          "output_type": "stream",
          "name": "stdout",
          "text": [
            "Hello\n"
          ]
        }
      ]
    },
    {
      "cell_type": "code",
      "source": [
        "#9. Returning a Generator (yield instead of return)\n",
        "#A generator returns values one at a time using yield.\n",
        "\n",
        "def count():\n",
        "    for i in range(5):\n",
        "        yield i\n",
        "\n",
        "gen = count()\n",
        "print(next(gen))  # Output: 0\n",
        "print(next(gen))"
      ],
      "metadata": {
        "id": "12AUPPjAaVoV"
      },
      "execution_count": null,
      "outputs": []
    },
    {
      "cell_type": "code",
      "source": [
        "#10. Returning Early (Using return to Exit a Function Early)\n",
        "\n",
        "def check_number(n):\n",
        "    if n < 0:\n",
        "        return \"Negative Number\"\n",
        "    return \"Positive Number\"\n",
        "\n",
        "print(check_number(-5))\n",
        "print(check_number(5))"
      ],
      "metadata": {
        "id": "tBR3yiUdaame",
        "outputId": "db095e52-2475-494b-da79-bcc71bb4d73a",
        "colab": {
          "base_uri": "https://localhost:8080/"
        }
      },
      "execution_count": null,
      "outputs": [
        {
          "output_type": "stream",
          "name": "stdout",
          "text": [
            "Negative Number\n",
            "Positive Number\n"
          ]
        }
      ]
    },
    {
      "cell_type": "code",
      "source": [
        "#11. Returning exit() to Stop Execution\n",
        "\n",
        "import sys\n",
        "\n",
        "def stop_execution():\n",
        "    print(\"Program Stopped\")\n",
        "\n",
        "stop_execution()"
      ],
      "metadata": {
        "id": "rJzJ59SFbD76",
        "outputId": "b05e714d-a1e6-418e-e9fa-6a29cd9ee971",
        "colab": {
          "base_uri": "https://localhost:8080/"
        }
      },
      "execution_count": null,
      "outputs": [
        {
          "output_type": "stream",
          "name": "stdout",
          "text": [
            "Program Stopped\n"
          ]
        }
      ]
    },
    {
      "cell_type": "code",
      "source": [
        "'''You are familiar with basics of input/output and many other useful things in Python. This module is all about conditional statements like if, elif, else; for, while, etc.\n",
        "\n",
        "In Python, any conditional statement ends with ':' (proper indentation must be followed while working through loops).\n",
        "\n",
        "There are two friends, John and Smith, and the parameters j_angry and s_angry to indicate if each is angry. You are in trouble if both of them are angry or no one of them is angry.\n",
        "\n",
        "Now, complete the function which returns true if you are in trouble, else return false'''\n",
        "\n",
        "def are_in_trouble(j_angry, s_angry):\n",
        "    if j_angry == s_angry:\n",
        "        return True\n",
        "    elif (j_angry==False and s_angry==False):\n",
        "        return True;\n",
        "    else:\n",
        "        return False\n",
        "\n",
        "print(are_in_trouble(True, True))\n",
        "print(are_in_trouble(False, False))\n",
        "print(are_in_trouble(True, False))\n",
        "print(are_in_trouble(False, False))"
      ],
      "metadata": {
        "collapsed": true,
        "id": "g-V48OVlrdJA",
        "outputId": "e178c858-0180-4c2c-866e-25fcb630045f",
        "colab": {
          "base_uri": "https://localhost:8080/"
        }
      },
      "execution_count": null,
      "outputs": [
        {
          "output_type": "stream",
          "name": "stdout",
          "text": [
            "True\n",
            "True\n",
            "False\n",
            "True\n"
          ]
        }
      ]
    },
    {
      "cell_type": "code",
      "source": [
        "#You are given a string str, you need to return True if  the words \"cat\" and \"hat\" appear same number of times in str, otherwise return False.\n",
        "def cat_hat(s):\n",
        "    if s.count('cat') == s.count('hat'):\n",
        "        print(\"cat and hat both are present\", s.count('cat'), \"times\")\n",
        "        return True\n",
        "    else:\n",
        "        print(\"cat and hat are not present equal number of times\")\n",
        "        return False\n",
        "\n",
        "print(cat_hat('cathat'))\n",
        "print(cat_hat('cat'))\n",
        "print(cat_hat('hat'))\n",
        "print(cat_hat('catcat'))\n",
        "print(cat_hat('hathat'))\n",
        "print(cat_hat('vinay'))\n",
        "print(cat_hat('kumar'))"
      ],
      "metadata": {
        "id": "Pz19ZVStuGO5",
        "outputId": "25ca9301-8323-4202-bb7f-7048caad6e91",
        "colab": {
          "base_uri": "https://localhost:8080/"
        }
      },
      "execution_count": null,
      "outputs": [
        {
          "output_type": "stream",
          "name": "stdout",
          "text": [
            "cat and hat both are present 1 times\n",
            "True\n",
            "cat and hat are not present equal number of times\n",
            "False\n",
            "cat and hat are not present equal number of times\n",
            "False\n",
            "cat and hat are not present equal number of times\n",
            "False\n",
            "cat and hat are not present equal number of times\n",
            "False\n",
            "cat and hat both are present 0 times\n",
            "True\n",
            "cat and hat both are present 0 times\n",
            "True\n"
          ]
        }
      ]
    },
    {
      "cell_type": "code",
      "source": [
        "# reversing problems\n",
        "#method 1\n",
        "s=('vinaykumar')\n",
        "n=len(s)\n",
        "for i in range(n-1,-1,-1):\n",
        "    print(s[i],end='')\n"
      ],
      "metadata": {
        "id": "-rfPNJ7t0-tQ",
        "outputId": "b8b31712-881a-4561-a4ff-51ae39b9a97c",
        "colab": {
          "base_uri": "https://localhost:8080/"
        }
      },
      "execution_count": null,
      "outputs": [
        {
          "output_type": "stream",
          "name": "stdout",
          "text": [
            "ramukyaniv"
          ]
        }
      ]
    },
    {
      "cell_type": "code",
      "source": [
        "#method 2 by converting muttable to immutable\n",
        "\n",
        "s= \"vinaykumar\"\n",
        "n= list(s)\n",
        "y= len(n)\n",
        "\n",
        "for i in range(y-1, -1, -1):\n",
        "  print(n[i], end='')"
      ],
      "metadata": {
        "id": "ZZ4IUAra2cJY",
        "outputId": "29b04ea6-ea31-493d-ee31-5e7c72868989",
        "colab": {
          "base_uri": "https://localhost:8080/"
        }
      },
      "execution_count": null,
      "outputs": [
        {
          "output_type": "stream",
          "name": "stdout",
          "text": [
            "ramukyaniv"
          ]
        }
      ]
    },
    {
      "cell_type": "code",
      "source": [
        "#method 3 by converting extended slicing\n",
        "s=('vinaykumar')\n",
        "print(s[::-1])"
      ],
      "metadata": {
        "id": "MLIap0QG5R8C",
        "outputId": "5644aae9-6043-488d-bfc2-d5c0cc35a725",
        "colab": {
          "base_uri": "https://localhost:8080/"
        }
      },
      "execution_count": null,
      "outputs": [
        {
          "output_type": "stream",
          "name": "stdout",
          "text": [
            "ramukyaniv\n"
          ]
        }
      ]
    },
    {
      "cell_type": "code",
      "source": [
        "#counting vowels\n",
        "s=('vinaykumar')\n",
        "vowels='aeiou'\n",
        "count=0\n",
        "for i in s:\n",
        "    if i in vowels:\n",
        "        count+=1\n",
        "print(count)"
      ],
      "metadata": {
        "id": "LOqMmLzf5hA9",
        "outputId": "5f6a12ef-fdce-41ce-cd0f-b904ee3336d7",
        "colab": {
          "base_uri": "https://localhost:8080/"
        }
      },
      "execution_count": null,
      "outputs": [
        {
          "output_type": "stream",
          "name": "stdout",
          "text": [
            "4\n"
          ]
        }
      ]
    },
    {
      "cell_type": "code",
      "source": [
        "s=(\"aravindha sametha veera raghava\")\n",
        "vowels = \"a,e,i,o,u\"\n",
        "count=0\n",
        "for i in s:\n",
        "  if i not in vowels:\n",
        "    count+=1\n",
        "print(count)"
      ],
      "metadata": {
        "id": "e1rUEcbS6Yi0",
        "outputId": "88c0128f-0b77-4e5e-84e8-25b2548be5f0",
        "colab": {
          "base_uri": "https://localhost:8080/"
        }
      },
      "execution_count": null,
      "outputs": [
        {
          "output_type": "stream",
          "name": "stdout",
          "text": [
            "18\n"
          ]
        }
      ]
    },
    {
      "cell_type": "code",
      "source": [
        "#palindrome\n",
        "s=(\"aravindha sametha veera raghava\")\n",
        "print(s)\n",
        "if s==s[::-1]:\n",
        "    print(\"palindrome\")\n",
        "else:\n",
        "    print(\"not palindrome\")\n"
      ],
      "metadata": {
        "id": "eaZbgeDN7LaN",
        "outputId": "351205ae-b370-4264-d9a2-d19693d8cafe",
        "colab": {
          "base_uri": "https://localhost:8080/"
        }
      },
      "execution_count": null,
      "outputs": [
        {
          "output_type": "stream",
          "name": "stdout",
          "text": [
            "aravindha sametha veera raghava\n",
            "not palindrome\n"
          ]
        }
      ]
    },
    {
      "cell_type": "code",
      "source": [
        "#writing Fibonacci series\n",
        "fib = [0,1]\n",
        "for i in range(2,100):\n",
        "    fib.append(fib[i-1]+fib[i-2])\n",
        "print(', '.join(str(e) for e in fib))"
      ],
      "metadata": {
        "id": "fswKiJla_JxV",
        "outputId": "17a7eaa1-dcd4-4c6c-ef3e-845396912433",
        "colab": {
          "base_uri": "https://localhost:8080/"
        }
      },
      "execution_count": null,
      "outputs": [
        {
          "output_type": "stream",
          "name": "stdout",
          "text": [
            "0, 1, 1, 2, 3, 5, 8, 13, 21, 34, 55, 89, 144, 233, 377, 610, 987, 1597, 2584, 4181, 6765, 10946, 17711, 28657, 46368, 75025, 121393, 196418, 317811, 514229, 832040, 1346269, 2178309, 3524578, 5702887, 9227465, 14930352, 24157817, 39088169, 63245986, 102334155, 165580141, 267914296, 433494437, 701408733, 1134903170, 1836311903, 2971215073, 4807526976, 7778742049, 12586269025, 20365011074, 32951280099, 53316291173, 86267571272, 139583862445, 225851433717, 365435296162, 591286729879, 956722026041, 1548008755920, 2504730781961, 4052739537881, 6557470319842, 10610209857723, 17167680177565, 27777890035288, 44945570212853, 72723460248141, 117669030460994, 190392490709135, 308061521170129, 498454011879264, 806515533049393, 1304969544928657, 2111485077978050, 3416454622906707, 5527939700884757, 8944394323791464, 14472334024676221, 23416728348467685, 37889062373143906, 61305790721611591, 99194853094755497, 160500643816367088, 259695496911122585, 420196140727489673, 679891637638612258, 1100087778366101931, 1779979416004714189, 2880067194370816120, 4660046610375530309, 7540113804746346429, 12200160415121876738, 19740274219868223167, 31940434634990099905, 51680708854858323072, 83621143489848422977, 135301852344706746049, 218922995834555169026\n"
          ]
        }
      ]
    },
    {
      "cell_type": "code",
      "source": [
        "#finding the maximum number in a list\n",
        "l=[1,2,3,4,5,6,7,8,9,10]\n",
        "max(l)"
      ],
      "metadata": {
        "id": "yl7wVrs8DVxJ",
        "outputId": "93a993ab-d434-43f8-e016-212b4100c851",
        "colab": {
          "base_uri": "https://localhost:8080/"
        }
      },
      "execution_count": null,
      "outputs": [
        {
          "output_type": "execute_result",
          "data": {
            "text/plain": [
              "10"
            ]
          },
          "metadata": {},
          "execution_count": 142
        }
      ]
    },
    {
      "cell_type": "code",
      "source": [
        "#method 2\n",
        "\n",
        "l = [1,22,33,44,11,2,3,4]\n",
        "max = l[0]\n",
        "for num in l:\n",
        "  if max < num:\n",
        "    max = num\n",
        "print(max)\n"
      ],
      "metadata": {
        "id": "dCn4MoSy_5cm",
        "outputId": "f9e7cd8a-a019-4e20-f3d0-4c147548f199",
        "colab": {
          "base_uri": "https://localhost:8080/"
        }
      },
      "execution_count": null,
      "outputs": [
        {
          "output_type": "stream",
          "name": "stdout",
          "text": [
            "44\n"
          ]
        }
      ]
    },
    {
      "cell_type": "code",
      "source": [
        "#printing minimum number\n",
        "l = [1,22,33,44,11,2,3,4]\n",
        "min = l[0]\n",
        "for num in l:\n",
        "  if min > num:\n",
        "    min = num\n",
        "print(min)"
      ],
      "metadata": {
        "id": "4guXr3KeEvDy",
        "outputId": "9e2f6a78-b245-4fc7-a87c-1aee5900b173",
        "colab": {
          "base_uri": "https://localhost:8080/"
        }
      },
      "execution_count": null,
      "outputs": [
        {
          "output_type": "stream",
          "name": "stdout",
          "text": [
            "1\n"
          ]
        }
      ]
    },
    {
      "cell_type": "code",
      "source": [
        "import builtins\n",
        "print(builtins.min(l))"
      ],
      "metadata": {
        "id": "VvYe0d5YFMgg",
        "outputId": "e3df4596-2dd5-4c8f-a69c-306b091b4d72",
        "colab": {
          "base_uri": "https://localhost:8080/"
        }
      },
      "execution_count": null,
      "outputs": [
        {
          "output_type": "stream",
          "name": "stdout",
          "text": [
            "1\n"
          ]
        }
      ]
    },
    {
      "cell_type": "code",
      "source": [
        "#finding middle element in  the list\n",
        "\n",
        "list = [1,2,3,4,5,6,7,8,9,10]\n",
        "n = len(list)\n",
        "middle_element = list[n//2]\n",
        "print(middle_element)"
      ],
      "metadata": {
        "id": "siEDYTejG0dS",
        "outputId": "97a1477b-d20a-4ec9-bc0d-35f799d46c00",
        "colab": {
          "base_uri": "https://localhost:8080/"
        }
      },
      "execution_count": null,
      "outputs": [
        {
          "output_type": "stream",
          "name": "stdout",
          "text": [
            "6\n"
          ]
        }
      ]
    },
    {
      "cell_type": "code",
      "source": [
        "#converting a list into a string\n",
        "list = ['a','b','c','d','e','f','g','h','i','j']\n",
        "b=str(list)\n",
        "print(b)"
      ],
      "metadata": {
        "id": "iW4AcmMvIBFY",
        "outputId": "793b23c5-3cbc-4a9c-d6c5-3260f846a94f",
        "colab": {
          "base_uri": "https://localhost:8080/"
        }
      },
      "execution_count": null,
      "outputs": [
        {
          "output_type": "stream",
          "name": "stdout",
          "text": [
            "['a', 'b', 'c', 'd', 'e', 'f', 'g', 'h', 'i', 'j']\n"
          ]
        }
      ]
    },
    {
      "cell_type": "code",
      "source": [
        "print(type(b))"
      ],
      "metadata": {
        "id": "xAj753kNJWYb",
        "outputId": "0da5c52c-3315-4125-f180-cb0906a3009b",
        "colab": {
          "base_uri": "https://localhost:8080/"
        }
      },
      "execution_count": null,
      "outputs": [
        {
          "output_type": "stream",
          "name": "stdout",
          "text": [
            "<class 'str'>\n"
          ]
        }
      ]
    },
    {
      "cell_type": "code",
      "source": [
        "#converting list to string withouth casting\n",
        "list = ['a','b','c','d','e','f','g','h','i','j']\n",
        "b=''.join(list)\n",
        "print(b)\n"
      ],
      "metadata": {
        "id": "2Rx4-h7EJvvB",
        "outputId": "0b3e2b71-eb2a-4293-e1af-4f16b4bc7b34",
        "colab": {
          "base_uri": "https://localhost:8080/"
        }
      },
      "execution_count": null,
      "outputs": [
        {
          "output_type": "stream",
          "name": "stdout",
          "text": [
            "abcdefghij\n"
          ]
        }
      ]
    },
    {
      "cell_type": "code",
      "source": [
        "#adding two list elements together\n",
        "lst1 = [-1,-5,3,4,5]\n",
        "lst2 = [1,1,1,1,1,1,2]\n",
        "vin = []\n",
        "for i in range(0, len(lst1)):\n",
        "    vin.append(lst1[i] + lst2[i])\n",
        "print(vin)"
      ],
      "metadata": {
        "id": "1hvIJAktK-sc",
        "outputId": "f57844bb-404e-439c-e57b-0d0a8df3279f",
        "colab": {
          "base_uri": "https://localhost:8080/"
        }
      },
      "execution_count": null,
      "outputs": [
        {
          "output_type": "stream",
          "name": "stdout",
          "text": [
            "[0, -4, 4, 5, 6]\n"
          ]
        }
      ]
    },
    {
      "cell_type": "code",
      "source": [
        "#comparing anagrams\n",
        "str1 = 'listen'\n",
        "str2 = 'silent'\n",
        "if sorted(str1) == sorted(str2):\n",
        "    print(\"Anagram\")\n",
        "else:\n",
        "    print(\"Not Anagram\")"
      ],
      "metadata": {
        "id": "ZnN4VRbEMV-b"
      },
      "execution_count": null,
      "outputs": []
    },
    {
      "cell_type": "code",
      "source": [
        "#counting digits and numbers in strings\n",
        "import re\n",
        "name = 'sithamvakitlo sirimalle33 chettu'\n",
        "digitcount = re.sub(\"[^0-9]\", \"\", name)\n",
        "letterCount = re.sub(\"[^a-zA-Z]\", \"\", name)\n",
        "spaceccount = re.sub(\"[^ ]\", \"\", name)\n",
        "\n",
        "\n",
        "print(len(digitcount))\n",
        "print(len(letterCount))\n",
        "print(len(spaceccount))\n"
      ],
      "metadata": {
        "id": "cL9KwMk0Mugz",
        "outputId": "351fab11-340f-45db-af57-6ca2844097ac",
        "colab": {
          "base_uri": "https://localhost:8080/"
        }
      },
      "execution_count": null,
      "outputs": [
        {
          "output_type": "stream",
          "name": "stdout",
          "text": [
            "2\n",
            "28\n",
            "2\n"
          ]
        }
      ]
    },
    {
      "cell_type": "code",
      "source": [
        "#(Regular Expressions Library) in Python?\n",
        "#The re module in Python provides powerful tools for pattern matching,\n",
        "# searching, and manipulating strings based on specific patterns."
      ],
      "metadata": {
        "id": "f8flMgV_PR1U"
      },
      "execution_count": null,
      "outputs": []
    },
    {
      "cell_type": "code",
      "source": [
        "#remove all white spaces in string\n",
        "#method 1\n",
        "\n",
        "import re\n",
        "string = \"v i n ay ku ma ar\"\n",
        "spaces = re.compile(r'\\s+')\n",
        "result = re.sub(spaces, '', string)\n",
        "print(result)"
      ],
      "metadata": {
        "id": "F3M_ygtKPaaq",
        "outputId": "0c65273f-b227-4522-a81b-d2bd20d65db5",
        "colab": {
          "base_uri": "https://localhost:8080/"
        }
      },
      "execution_count": null,
      "outputs": [
        {
          "output_type": "stream",
          "name": "stdout",
          "text": [
            "vinaykumaar\n"
          ]
        }
      ]
    },
    {
      "cell_type": "code",
      "source": [
        "#method 2\n",
        "\n",
        "string = \"b hai ra va dweepam\"\n",
        "string2 = \"\".join(char for char in string if char != \" \")\n",
        "print(string2)"
      ],
      "metadata": {
        "id": "aVD05JHNCGBj",
        "outputId": "035fa461-4611-44c6-cd52-cd995832bcd5",
        "colab": {
          "base_uri": "https://localhost:8080/"
        }
      },
      "execution_count": null,
      "outputs": [
        {
          "output_type": "stream",
          "name": "stdout",
          "text": [
            "bhairavadweepam\n"
          ]
        }
      ]
    },
    {
      "cell_type": "code",
      "source": [
        "string = \"co de\"\n",
        "string2 = string.replace(\" \",\"\")\n",
        "print(string2)"
      ],
      "metadata": {
        "id": "_ZkP4JrZC27B",
        "outputId": "ac04ec79-7713-4c8d-f583-c33ae5c50cbd",
        "colab": {
          "base_uri": "https://localhost:8080/"
        }
      },
      "execution_count": null,
      "outputs": [
        {
          "output_type": "stream",
          "name": "stdout",
          "text": [
            "code\n"
          ]
        }
      ]
    },
    {
      "cell_type": "code",
      "source": [
        "#randomizing the items of list in python\n",
        "list=[1,5,2,3,4,6,7,8,9,10]\n",
        "import random\n",
        "random.shuffle(list)\n",
        "print(list)"
      ],
      "metadata": {
        "id": "LpToR95yDZJ_",
        "outputId": "a793192d-452f-497b-fc48-b2e6d8d5972b",
        "colab": {
          "base_uri": "https://localhost:8080/"
        }
      },
      "execution_count": null,
      "outputs": [
        {
          "output_type": "stream",
          "name": "stdout",
          "text": [
            "[2, 3, 4, 5, 7, 6, 10, 9, 8, 1]\n"
          ]
        }
      ]
    },
    {
      "cell_type": "code",
      "source": [
        "print(sorted(list))"
      ],
      "metadata": {
        "id": "kZGkfok-EC2A",
        "outputId": "af1ee0f0-056b-45ab-998e-5941aeff6e94",
        "colab": {
          "base_uri": "https://localhost:8080/"
        }
      },
      "execution_count": null,
      "outputs": [
        {
          "output_type": "stream",
          "name": "stdout",
          "text": [
            "[1, 2, 3, 4, 5, 6, 7, 8, 9, 10]\n"
          ]
        }
      ]
    },
    {
      "cell_type": "code",
      "source": [
        "from ast import Return\n",
        "#You are given a number N, you need to print its multiplication table.\n",
        "def multiplicationTable(N):\n",
        "    for i in range(1,11):\n",
        "        print(i * N, end=\" \")\n",
        "multiplicationTable(13)\n",
        "\n",
        "\n"
      ],
      "metadata": {
        "id": "etZeX-vVEJFX",
        "outputId": "b82f0095-0609-421f-a30d-7d260466f03f",
        "colab": {
          "base_uri": "https://localhost:8080/"
        }
      },
      "execution_count": null,
      "outputs": [
        {
          "output_type": "stream",
          "name": "stdout",
          "text": [
            "13 26 39 52 65 78 91 104 117 130 "
          ]
        }
      ]
    },
    {
      "cell_type": "code",
      "source": [
        "#You are given a string str, you need to print its characters at even indices(index starts at 0).\n",
        "def stringJumper(str):\n",
        "    for i in range(0, len(str),2):\n",
        "        print(str[i])\n",
        "print(stringJumper(\"vinaykumar\"))"
      ],
      "metadata": {
        "id": "XkYAmtYVG--u",
        "outputId": "79e31ec8-9bf4-423d-bc8f-e4c0724de141",
        "colab": {
          "base_uri": "https://localhost:8080/"
        }
      },
      "execution_count": null,
      "outputs": [
        {
          "output_type": "stream",
          "name": "stdout",
          "text": [
            "v\n",
            "n\n",
            "y\n",
            "u\n",
            "a\n",
            "None\n"
          ]
        }
      ]
    },
    {
      "cell_type": "code",
      "source": [
        "#Let's get it more clearly through this question.\n",
        "# Given a number x, the task is to print the numbers from x to 0 in decreasing order in a single line.\n",
        "def printInDecreasing(x):\n",
        "    while x >= 0:\n",
        "        print(x, end=\" \")\n",
        "        x -= 1\n",
        "\n",
        "printInDecreasing(10)"
      ],
      "metadata": {
        "id": "a61IgFZhIBI3",
        "outputId": "c6e10b32-9ad6-479a-b6b9-d42502577457",
        "colab": {
          "base_uri": "https://localhost:8080/"
        }
      },
      "execution_count": null,
      "outputs": [
        {
          "output_type": "stream",
          "name": "stdout",
          "text": [
            "10 9 8 7 6 5 4 3 2 1 0 "
          ]
        }
      ]
    },
    {
      "cell_type": "code",
      "source": [
        "#Given a positive integer x, the task is to print the numbers from 1 to x\n",
        "#in the order as 12, 22, 32, 42, 52, ... (in increasing order).\n",
        "def printIncreasingPower(x):\n",
        "\n",
        "    i=1\n",
        "\n",
        "    while(i**2 <=x):\n",
        "\n",
        "        print (i**2 , end = \" \")\n",
        "        i +=1\n",
        "\n",
        "printIncreasingPower(10)"
      ],
      "metadata": {
        "id": "GBgItPSdP6Yq",
        "outputId": "ade55904-cc29-49c2-f9eb-275c2ee8fc93",
        "colab": {
          "base_uri": "https://localhost:8080/"
        }
      },
      "execution_count": null,
      "outputs": [
        {
          "output_type": "stream",
          "name": "stdout",
          "text": [
            "1 4 9 "
          ]
        }
      ]
    },
    {
      "cell_type": "code",
      "source": [
        "def printIncreasinPower(x):\n",
        "  while x <= 5:\n",
        "    for i in range(1, 10):\n",
        "       print(x **i, end=\" \")\n",
        "    print()\n",
        "    x += 1\n",
        "\n",
        "printIncreasinPower(4)\n"
      ],
      "metadata": {
        "id": "nLoWiXfcJEXA",
        "outputId": "0678bab0-7132-4154-f4d8-5ad8a6a2a190",
        "colab": {
          "base_uri": "https://localhost:8080/"
        }
      },
      "execution_count": null,
      "outputs": [
        {
          "output_type": "stream",
          "name": "stdout",
          "text": [
            "4 16 64 256 1024 4096 16384 65536 262144 \n",
            "5 25 125 625 3125 15625 78125 390625 1953125 \n"
          ]
        }
      ]
    },
    {
      "cell_type": "code",
      "source": [
        "#You are given a number n. The number n can be negative or positive.\n",
        "# If n is negative, print numbers from n to 0 by adding 1 to n\n",
        "#in the neg function. If positive, print numbers from n-1 to 0 by subtracting 1 from n in the pos function.\n",
        "def pos(n):\n",
        "    ## Write the code\n",
        "        while n > 0:\n",
        "            print(n-1 , end=' ')\n",
        "            n-=1\n",
        "\n",
        "def neg(n):\n",
        "    ##Write the code\n",
        "    while n <= 0:\n",
        "        print(n , end=' ')\n",
        "        n+= 1\n",
        "pos(10)\n",
        "neg(-10)"
      ],
      "metadata": {
        "id": "iRm9PniwTW5m",
        "outputId": "fc7317cd-8fbd-4474-8269-46dd95bded40",
        "colab": {
          "base_uri": "https://localhost:8080/"
        }
      },
      "execution_count": null,
      "outputs": [
        {
          "output_type": "stream",
          "name": "stdout",
          "text": [
            "9 8 7 6 5 4 3 2 1 0 -10 -9 -8 -7 -6 -5 -4 -3 -2 -1 0 "
          ]
        }
      ]
    },
    {
      "cell_type": "code",
      "source": [
        "\n",
        "def pos(n):\n",
        "    if n>0:\n",
        "        while(n>0):\n",
        "            print(n-1,end =\" \")\n",
        "            n-=1\n",
        "        else:\n",
        "            print(\"already zero\")\n",
        "\n",
        "def neg(n):\n",
        "    if n<=0:\n",
        "        while(n<=0):\n",
        "            print(n, end =\" \")\n",
        "            n+=1\n",
        "    else:\n",
        "      print(\"already zero\")\n",
        "\n",
        "pos(10)\n",
        "neg(-10)"
      ],
      "metadata": {
        "id": "d3b5hKLHQMcu",
        "outputId": "73e96d13-1857-4cbc-acb1-a7c9306d1635",
        "colab": {
          "base_uri": "https://localhost:8080/"
        }
      },
      "execution_count": null,
      "outputs": [
        {
          "output_type": "stream",
          "name": "stdout",
          "text": [
            "9 8 7 6 5 4 3 2 1 0 already zero\n",
            "-10 -9 -8 -7 -6 -5 -4 -3 -2 -1 0 "
          ]
        }
      ]
    },
    {
      "cell_type": "code",
      "source": [],
      "metadata": {
        "id": "BY5IXb4oTvVi"
      },
      "execution_count": null,
      "outputs": []
    }
  ],
  "metadata": {
    "colab": {
      "provenance": [],
      "include_colab_link": true
    },
    "kernelspec": {
      "display_name": "Python 3",
      "name": "python3"
    }
  },
  "nbformat": 4,
  "nbformat_minor": 0
}